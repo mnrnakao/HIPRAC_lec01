{
 "cells": [
  {
   "cell_type": "markdown",
   "metadata": {
    "chapterId": "ry-G_A7Wxbf",
    "id": "chapter_name"
   },
   "source": [
    "#  RT-Dicomの読み込み・編集・保存"
   ]
  },
  {
   "cell_type": "markdown",
   "metadata": {
    "id": "table"
   },
   "source": [
    "- **1. RTPlanの読み込み**\n",
    "    - **1.1 pydicomモジュールのインポート**\n",
    "    - **1.2 RTPlanのインポート**\n",
    "    - **1.3 RTPlanの表示**\n",
    "<br><br>\n",
    "- **2 RTPlan編集の練習**\n",
    "    - **2.1 Patient IDの取得**\n",
    "    - **2.2 Manufacturerの取得（演習）**\n",
    "    - **2.3 Study Descriptionの取得（演習）**\n",
    "    - **2.4 Fraction Group Sequenceの取得**\n",
    "    - **2.5 Number of Fractions Plannedの取得**\n",
    "    - **2.6 1門目のBeam情報取得**\n",
    "    - **2.7 Control point の取得**\n",
    "    - **2.8 MLC位置情報の取得（演習）**\n",
    "<br><br>\n",
    "- **3 pythonの基本ルールとnumpyについて**\n",
    "    - **3.1 データ型の確認（Leaf position）**\n",
    "    - **3.2 for 文(繰り返し)**\n",
    "    - **3.3 numpy(行列演算)**\n",
    "<br><br>\n",
    "- **4 RTPlan(3DCRT)の編集と保存**\n",
    "    - **4.1 MLCの編集と保存**\n",
    "    - **4.2 編集前後のBEV表示**\n",
    "<br><br>\n",
    "- **付録 RTPlan(VMAT)の編集と保存**\n",
    "    - **5.1 if 文 (条件分岐) について**\n",
    "    - **5.2 ifとfor 文の組み合わせ**\n",
    "    - **5.3 VMATプランのインポートMLCの編集と保存 (VMAT)**\n",
    "    - **5.4 MLCの編集と保存 (VMAT)編集前後のBEV表示**\n",
    "    - **5.5 編集前後のBEV表示**"
   ]
  },
  {
   "cell_type": "markdown",
   "metadata": {
    "id": "section_name",
    "sectionId": "HkzM_0Xbl-f"
   },
   "source": [
    "## ●1. RTPlanの読み込み"
   ]
  },
  {
   "cell_type": "markdown",
   "metadata": {},
   "source": [
    "### 〇1.1 pydicomモジュールのインポート"
   ]
  },
  {
   "cell_type": "code",
   "execution_count": null,
   "metadata": {},
   "outputs": [],
   "source": [
    "import pydicom\n",
    "print(\"O.K\")"
   ]
  },
  {
   "cell_type": "markdown",
   "metadata": {},
   "source": [
    "### 〇1.2 RTPlanのインポート"
   ]
  },
  {
   "cell_type": "code",
   "execution_count": null,
   "metadata": {},
   "outputs": [],
   "source": [
    "plan = pydicom.dcmread('3DCRT.dcm')\n",
    "print(\"O.K\")"
   ]
  },
  {
   "cell_type": "markdown",
   "metadata": {},
   "source": [
    "### 〇1.3 RTPlanの表示"
   ]
  },
  {
   "cell_type": "code",
   "execution_count": null,
   "metadata": {},
   "outputs": [],
   "source": [
    "print(plan)"
   ]
  },
  {
   "cell_type": "markdown",
   "metadata": {},
   "source": [
    "## ●2. RTPlan編集の練習"
   ]
  },
  {
   "cell_type": "markdown",
   "metadata": {},
   "source": [
    "### 〇2.1 Patient IDの取得"
   ]
  },
  {
   "cell_type": "code",
   "execution_count": null,
   "metadata": {},
   "outputs": [],
   "source": [
    "print(plan.PatientID)"
   ]
  },
  {
   "cell_type": "markdown",
   "metadata": {},
   "source": [
    "### 〇2.2 Manufacturerの取得"
   ]
  },
  {
   "cell_type": "code",
   "execution_count": null,
   "metadata": {},
   "outputs": [],
   "source": [
    "print()"
   ]
  },
  {
   "cell_type": "markdown",
   "metadata": {},
   "source": [
    "### 〇2.3 Study Descriptionの取得"
   ]
  },
  {
   "cell_type": "code",
   "execution_count": null,
   "metadata": {
    "scrolled": true
   },
   "outputs": [],
   "source": [
    "print()"
   ]
  },
  {
   "cell_type": "markdown",
   "metadata": {},
   "source": [
    "### 〇2.4 Fraction Group Sequenceの表示"
   ]
  },
  {
   "cell_type": "code",
   "execution_count": null,
   "metadata": {},
   "outputs": [],
   "source": [
    "print(plan.FractionGroupSequence[0])"
   ]
  },
  {
   "cell_type": "markdown",
   "metadata": {},
   "source": [
    "### 〇2.5 Number of Fractions Planned の取得"
   ]
  },
  {
   "cell_type": "code",
   "execution_count": null,
   "metadata": {},
   "outputs": [],
   "source": [
    "print(plan.FractionGroupSequence[0].NumberOfFractionsPlanned)"
   ]
  },
  {
   "cell_type": "markdown",
   "metadata": {},
   "source": [
    "### 〇2.6 1門目のBeam情報表示"
   ]
  },
  {
   "cell_type": "code",
   "execution_count": null,
   "metadata": {},
   "outputs": [],
   "source": [
    "print(plan.BeamSequence[0]) #1門目のビーム情報"
   ]
  },
  {
   "cell_type": "markdown",
   "metadata": {},
   "source": [
    "### 〇2.7 Control point の取得"
   ]
  },
  {
   "cell_type": "code",
   "execution_count": null,
   "metadata": {
    "scrolled": true
   },
   "outputs": [],
   "source": [
    "cp0 = plan.BeamSequence[0].ControlPointSequence[0] # 最初のビームの、最初のコントロールポイント\n",
    "print(cp0)"
   ]
  },
  {
   "cell_type": "markdown",
   "metadata": {},
   "source": [
    "### 〇2.8 MLC位置情報の取得"
   ]
  },
  {
   "cell_type": "code",
   "execution_count": null,
   "metadata": {},
   "outputs": [],
   "source": [
    "MLC = plan.BeamSequence[0].ControlPointSequence[0].BeamLimitingDevicePositionSequence[2].LeafJawPositions\n",
    "# 最初のビームの、最初のControlpointの、3番目のBeamLimitingDevicePositionSequenceの、LeafJawPositions\n",
    "print(MLC)"
   ]
  },
  {
   "cell_type": "markdown",
   "metadata": {},
   "source": [
    "## ●3. pythonの基本ルールとNumpyについて"
   ]
  },
  {
   "cell_type": "markdown",
   "metadata": {},
   "source": [
    "### 〇3.1 データの型を調べよう(leaf position)"
   ]
  },
  {
   "cell_type": "code",
   "execution_count": null,
   "metadata": {},
   "outputs": [],
   "source": [
    "MLC =  ['-7.17', '-7.17', '-7.17', '-7.17', '-7.17', '-7.17', '-7.17', '-7.17', '-7.17', '-7.17', '-7.17', '-7.17', '-7.17', '25.3', '-4.0e-1', '-8.95', '-12.15', '-14.45', '-17.25', '-41', '-50.7', '-55.24', '-58.25', '-68.8', '-76.3', '-80.8', '-86.65', '-92.65', '-94.38', '-96.2', '-96.74', '-96.54', '-95', '-92.95', '-92.13', '-89.45', '-86.75', '-81.6', '-76.6', '-71.4', '-65.4', '-58.2', '-49.4', '-35.4', '-21.4', '-7.17', '-7.17', '-7.17', '-7.17', '-7.17', '-7.17', '-7.17', '-7.17', '-7.17', '-7.17', '-7.17', '-7.17', '-7.17', '-7.17', '-7.17', '-7.17', '-7.17', '-7.17', '-7.17', '-7.17', '-7.17', '-7.17', '-7.17', '-7.17', '-7.17', '-7.17', '-7.17', '-7.17', '36.8', '46', '54.6', '59.75', '62.75', '65.85', '67.6', '67.51', '70.2', '74.95', '77.95', '80.65', '82.4', '82.36', '82.32', '81.8', '80.03', '78.15', '75.65', '73.67', '72.07', '69.85', '67.55', '65.2', '63.33', '60.75', '56.95', '53.2', '47.6', '40.4', '29.2', '-1.6', '-7.17', '-7.17', '-7.17', '-7.17', '-7.17', '-7.17', '-7.17', '-7.17', '-7.17', '-7.17', '-7.17', '-7.17', '-7.17', '-7.17', '-7.17']\n",
    "type(MLC)"
   ]
  },
  {
   "cell_type": "markdown",
   "metadata": {},
   "source": [
    "### 〇3.2 for 文 (繰り返し) について"
   ]
  },
  {
   "cell_type": "code",
   "execution_count": null,
   "metadata": {},
   "outputs": [],
   "source": [
    "for i in range (10):\n",
    "    print(i)"
   ]
  },
  {
   "cell_type": "markdown",
   "metadata": {},
   "source": [
    "### 〇3.3 Numpy (行列演算) について"
   ]
  },
  {
   "cell_type": "code",
   "execution_count": null,
   "metadata": {},
   "outputs": [],
   "source": [
    "#Numpyを使わないで実行します\n",
    "storages = [1,2,3,4,5,6,7,8,9]\n",
    "new_storages = []\n",
    "\n",
    "for i in storages:\n",
    "    i += 1 \n",
    "    new_storages.append(i)\n",
    "print(new_storages)\n",
    "    "
   ]
  },
  {
   "cell_type": "code",
   "execution_count": null,
   "metadata": {},
   "outputs": [],
   "source": [
    "#Numpyを使って実行します\n",
    "import numpy as np\n",
    "storages = np.array([1,2,3,4,5,6,7,8,9])\n",
    "storages += 1\n",
    "print(storages)\n",
    "type(storages)"
   ]
  },
  {
   "cell_type": "markdown",
   "metadata": {},
   "source": [
    "## ●4. RTPlan(MLC)の編集と保存"
   ]
  },
  {
   "cell_type": "markdown",
   "metadata": {},
   "source": [
    "### 〇4.1 MLCの編集と保存 (3DCRT)"
   ]
  },
  {
   "cell_type": "code",
   "execution_count": null,
   "metadata": {},
   "outputs": [],
   "source": [
    "import pydicom\n",
    "import numpy as np\n",
    "\n",
    "plan = pydicom.dcmread(\"3DCRT.dcm\")\n",
    "\n",
    "Beam = plan.FractionGroupSequence[0].NumberOfBeams\n",
    "shift = 30\n",
    "\n",
    "for i in range(Beam):\n",
    "   \n",
    "    leaf = plan.BeamSequence[i].ControlPointSequence[0].BeamLimitingDevicePositionSequence[2].LeafJawPositions\n",
    "    leaf_mod = np.array(leaf)+shift\n",
    "    plan.BeamSequence[i].ControlPointSequence[0].BeamLimitingDevicePositionSequence[2].LeafJawPositions = leaf_mod.tolist()\n",
    "   \n",
    "plan.save_as(\"3DCRT_MLCmod.dcm\")  \n",
    "\n",
    "print(\"O.K\")"
   ]
  },
  {
   "cell_type": "markdown",
   "metadata": {},
   "source": [
    "### 〇4.2 Beams eye viewの表示(参考)"
   ]
  },
  {
   "cell_type": "code",
   "execution_count": null,
   "metadata": {},
   "outputs": [],
   "source": [
    "#編集前プランのBEV表示\n",
    "\n",
    "import pydicom\n",
    "import numpy as np\n",
    "import matplotlib.pyplot as plt\n",
    "%matplotlib inline\n",
    "\n",
    "plan = pydicom.dcmread('3DCRT.dcm')\n",
    "\n",
    "def make_bev(beam, ax):\n",
    "\n",
    "    num_of_leaves = beam.BeamLimitingDeviceSequence[2].NumberOfLeafJawPairs \n",
    "\n",
    "    cp0 = beam.ControlPointSequence[0] \n",
    "\n",
    "    jaw_x = cp0.BeamLimitingDevicePositionSequence[0].LeafJawPositions \n",
    "    jaw_y = cp0.BeamLimitingDevicePositionSequence[1].LeafJawPositions \n",
    "    leaf_position = cp0.BeamLimitingDevicePositionSequence[2].LeafJawPositions \n",
    "\n",
    "    boundaries = np.array(beam.BeamLimitingDeviceSequence[2].LeafPositionBoundaries) \n",
    "    leaf_widths = np.diff(boundaries)\n",
    "\n",
    "    leaf_length = 200 \n",
    "\n",
    "    angle = float(cp0.BeamLimitingDeviceAngle)\n",
    "    angle_rad = np.radians(angle)\n",
    "    a_sin = np.sin(angle_rad)\n",
    "    a_cos = np.cos(angle_rad)\n",
    "    \n",
    "    x_0 = jaw_x[0]*a_cos - jaw_y[0]*a_sin\n",
    "    y_0 = jaw_x[0]*a_sin + jaw_y[0]*a_cos\n",
    "    ax.add_patch(plt.Rectangle(\n",
    "        xy=(x_0, y_0),\n",
    "        width=jaw_x[1]-jaw_x[0],\n",
    "        height=jaw_y[1]-jaw_y[0],\n",
    "        fill=False, ec='yellow', angle=angle, lw=1.5))\n",
    "        \n",
    "    for i in range(num_of_leaves):\n",
    "        x_1 = (leaf_position[i]-leaf_length)*a_cos - boundaries[i]*a_sin\n",
    "        y_1 = (leaf_position[i]-leaf_length)*a_sin + boundaries[i]*a_cos\n",
    "        ax.add_patch(plt.Rectangle(\n",
    "            xy=(x_1, y_1),\n",
    "            width=leaf_length,\n",
    "            height=leaf_widths[i],\n",
    "            fill=True, ec='blue', angle=angle, lw=1., alpha=0.3))\n",
    "                                       \n",
    "        x_2 = leaf_position[i+num_of_leaves]*a_cos - boundaries[i]*a_sin\n",
    "        y_2 = leaf_position[i+num_of_leaves]*a_sin + boundaries[i]*a_cos\n",
    "        ax.add_patch(plt.Rectangle(\n",
    "            xy=(x_2, y_2),\n",
    "            width=leaf_length,\n",
    "            height=leaf_widths[i],\n",
    "            fill=True, ec='blue', angle=angle, lw=1., alpha=0.3))\n",
    "\n",
    "    ax.patch.set_facecolor('gray')\n",
    "\n",
    "    disp = max([np.sqrt(i**2 + j**2) for i in jaw_x for j in jaw_y])\n",
    "    margin = 30\n",
    "    disp += margin\n",
    "    ax.set_xlim([-disp, disp])\n",
    "    ax.set_ylim([-disp, disp])\n",
    "    ax.set_aspect('equal')\n",
    "\n",
    "fig = plt.figure(figsize=(10,5))\n",
    "ax1 = fig.add_subplot(1,2,1) \n",
    "make_bev(plan.BeamSequence[0], ax1) \n",
    "ax1.set_title(plan.BeamSequence[0].BeamName) \n",
    "ax2 = fig.add_subplot(1,2,2) \n",
    "make_bev(plan.BeamSequence[1], ax2)\n",
    "ax2.set_title(plan.BeamSequence[1].BeamName)\n",
    "\n",
    "plt.savefig('3DCRT.jpg')\n",
    "\n",
    "plt.show()\n"
   ]
  },
  {
   "cell_type": "code",
   "execution_count": null,
   "metadata": {},
   "outputs": [],
   "source": [
    "#編集後プランのBEV表示\n",
    "\n",
    "plan = pydicom.dcmread('3DCRT_MLCmod.dcm')\n",
    "\n",
    "fig = plt.figure(figsize=(10,5))\n",
    "ax1 = fig.add_subplot(1,2,1) \n",
    "make_bev(plan.BeamSequence[0], ax1) \n",
    "ax1.set_title(plan.BeamSequence[0].BeamName) \n",
    "ax2 = fig.add_subplot(1,2,2) \n",
    "make_bev(plan.BeamSequence[1], ax2)\n",
    "ax2.set_title(plan.BeamSequence[1].BeamName)\n",
    "\n",
    "plt.savefig('3DCRT_MLCmod.jpg')\n",
    "\n",
    "plt.show()"
   ]
  },
  {
   "cell_type": "markdown",
   "metadata": {},
   "source": [
    "以下は付録です、余力のある方はどうぞ"
   ]
  },
  {
   "cell_type": "markdown",
   "metadata": {},
   "source": [
    "### 〇5.1 if 文 (条件分岐) について"
   ]
  },
  {
   "cell_type": "code",
   "execution_count": null,
   "metadata": {},
   "outputs": [],
   "source": [
    "age = 26\n",
    "if age >= 20:\n",
    "    print(\"あなたは成人です\")\n",
    "else:\n",
    "    print(\"あなたは未成年です\")"
   ]
  },
  {
   "cell_type": "markdown",
   "metadata": {},
   "source": [
    "### 〇5.2 ifとfor 文の組み合わせ"
   ]
  },
  {
   "cell_type": "code",
   "execution_count": null,
   "metadata": {},
   "outputs": [],
   "source": []
  },
  {
   "cell_type": "markdown",
   "metadata": {},
   "source": [
    "### 〇5.3 VMATプランのインポート"
   ]
  },
  {
   "cell_type": "code",
   "execution_count": null,
   "metadata": {},
   "outputs": [],
   "source": [
    "plan = pydicom.dcmread(\"VMAT.dcm\")\n",
    "print(plan)"
   ]
  },
  {
   "cell_type": "markdown",
   "metadata": {},
   "source": [
    "### 〇5.4 VMATプランのMLC編集"
   ]
  },
  {
   "cell_type": "code",
   "execution_count": null,
   "metadata": {},
   "outputs": [],
   "source": [
    "import pydicom\n",
    "import numpy as np\n",
    "\n",
    "plan = pydicom.dcmread(\"VMAT.dcm\")\n",
    "Beam = plan.FractionGroupSequence[0].NumberOfBeams\n",
    "CP = plan.BeamSequence[0].NumberOfControlPoints\n",
    "error = 30\n",
    "\n",
    "for i in range(Beam):\n",
    "    \n",
    "    for j in range(CP):\n",
    "        \n",
    "        if plan.BeamSequence[i].ControlPointSequence[j].ControlPointIndex == 0:\n",
    "            Beam_CP = plan.BeamSequence[i].ControlPointSequence[j].BeamLimitingDevicePositionSequence[2].LeafJawPositions\n",
    "            leaf_mod = np.array(Beam_CP)+error\n",
    "            plan.BeamSequence[i].ControlPointSequence[j].BeamLimitingDevicePositionSequence[2].LeafJawPositions = leaf_mod.tolist()\n",
    "\n",
    "        else:\n",
    "            Beam_CP = plan.BeamSequence[i].ControlPointSequence[j].BeamLimitingDevicePositionSequence[0].LeafJawPositions\n",
    "            leaf_mod = np.array(Beam_CP)+error\n",
    "            plan.BeamSequence[i].ControlPointSequence[j].BeamLimitingDevicePositionSequence[0].LeafJawPositions = leaf_mod.tolist()\n",
    "\n",
    "plan.save_as(\"VMAT_MLCmod.dcm\")\n",
    "print(\"O.K\")"
   ]
  },
  {
   "cell_type": "markdown",
   "metadata": {},
   "source": [
    "### 〇5.5 VMATプランのBEV表示"
   ]
  },
  {
   "cell_type": "code",
   "execution_count": null,
   "metadata": {},
   "outputs": [],
   "source": [
    "#MLC編集前のBEV表示\n",
    "plan = pydicom.dcmread('VMAT.dcm')\n",
    "\n",
    "fig = plt.figure(figsize=(10,5))\n",
    "ax1 = fig.add_subplot(1,2,1) \n",
    "make_bev(plan.BeamSequence[0], ax1) \n",
    "ax1.set_title(plan.BeamSequence[0].BeamName) \n",
    "ax2 = fig.add_subplot(1,2,2) \n",
    "make_bev(plan.BeamSequence[1], ax2)\n",
    "ax2.set_title(plan.BeamSequence[1].BeamName)\n",
    "\n",
    "plt.savefig('VMAT.jpg')\n",
    "\n",
    "plt.show()"
   ]
  },
  {
   "cell_type": "code",
   "execution_count": null,
   "metadata": {},
   "outputs": [],
   "source": [
    "#MLC編集後のBEV表示\n",
    "plan = pydicom.dcmread('VMAT_MLCmod.dcm')\n",
    "\n",
    "fig = plt.figure(figsize=(10,5))\n",
    "ax1 = fig.add_subplot(1,2,1) \n",
    "make_bev(plan.BeamSequence[0], ax1) \n",
    "ax1.set_title(plan.BeamSequence[0].BeamName) \n",
    "ax2 = fig.add_subplot(1,2,2) \n",
    "make_bev(plan.BeamSequence[1], ax2)\n",
    "ax2.set_title(plan.BeamSequence[1].BeamName)\n",
    "\n",
    "plt.savefig('VMAT_MLCmod.jpg')\n",
    "\n",
    "plt.show()"
   ]
  },
  {
   "cell_type": "code",
   "execution_count": null,
   "metadata": {},
   "outputs": [],
   "source": [
    "%load_ext watermark\n",
    "\n",
    "%watermark -v -m -p numpy,pydicom,matplotlib\n",
    "\n",
    "print(\" \")\n",
    "\n",
    "%watermark -u -n -t -z"
   ]
  }
 ],
 "metadata": {
  "celltoolbar": "Edit Metadata",
  "kernelspec": {
   "display_name": "Python 3",
   "language": "python",
   "name": "python3"
  },
  "language_info": {
   "codemirror_mode": {
    "name": "ipython",
    "version": 3
   },
   "file_extension": ".py",
   "mimetype": "text/x-python",
   "name": "python",
   "nbconvert_exporter": "python",
   "pygments_lexer": "ipython3",
   "version": "3.7.9"
  },
  "varInspector": {
   "cols": {
    "lenName": 16,
    "lenType": 16,
    "lenVar": 40
   },
   "kernels_config": {
    "python": {
     "delete_cmd_postfix": "",
     "delete_cmd_prefix": "del ",
     "library": "var_list.py",
     "varRefreshCmd": "print(var_dic_list())"
    },
    "r": {
     "delete_cmd_postfix": ") ",
     "delete_cmd_prefix": "rm(",
     "library": "var_list.r",
     "varRefreshCmd": "cat(var_dic_list()) "
    }
   },
   "types_to_exclude": [
    "module",
    "function",
    "builtin_function_or_method",
    "instance",
    "_Feature"
   ],
   "window_display": false
  }
 },
 "nbformat": 4,
 "nbformat_minor": 2
}
